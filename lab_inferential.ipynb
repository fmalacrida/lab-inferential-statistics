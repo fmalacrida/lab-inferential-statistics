{
 "cells": [
  {
   "cell_type": "markdown",
   "id": "1bd4f5ea-5410-41bf-8c7d-3c9a5cbdc084",
   "metadata": {},
   "source": [
    "## Instructions\n",
    "\n",
    "It is assumed that the mean systolic blood pressure is μ = 120 mm Hg. In the Honolulu Heart Study, a sample of n = 100 people had an average systolic blood pressure of 130.1 mm Hg with a standard deviation of 21.21 mm Hg. Is the group significantly different (with respect to systolic blood pressure!) from the regular population?\n",
    "\n",
    "* Set up the hypothesis test.\n",
    "* Write down all the steps followed for setting up the test.\n",
    "* Calculate the test statistic by hand and also code it in Python. It should be 4.76190. We will take a look at how to make decisions based on this calculated value.\n"
   ]
  },
  {
   "cell_type": "markdown",
   "id": "45d1c85f-5e5b-4b58-9cae-cd89b84cbec9",
   "metadata": {},
   "source": [
    "Null Hypothesis $( H_0 )$: The group’s mean systolic blood pressure is equal to the population mean $( \\mu = 120 )$.\n",
    "\n",
    "Alternative Hypothesis $( H_1 )$: The group’s mean systolic blood pressure is not equal to the population mean $( \\mu \\neq 120 )$."
   ]
  },
  {
   "cell_type": "code",
   "execution_count": 27,
   "id": "f58bd9e3-f576-44b3-9d19-26f4e9600d89",
   "metadata": {},
   "outputs": [
    {
     "name": "stdout",
     "output_type": "stream",
     "text": [
      "The test statistic (t-score) is: 4.76\n"
     ]
    }
   ],
   "source": [
    "from math import sqrt\n",
    "from scipy.stats import t\n",
    "\n",
    "\n",
    "population_mean = 120\n",
    "sample_mean = 130.1\n",
    "sample_std = 21.21\n",
    "sample_size = 100\n",
    "\n",
    "t_statistic = (sample_mean - population_mean) / (sample_std / sqrt(sample_size))\n",
    "\n",
    "print(f\"The test statistic (t-score) is: {t_statistic:.2f}\")"
   ]
  },
  {
   "cell_type": "markdown",
   "id": "21070779-063f-4df9-80a2-d964739d776c",
   "metadata": {},
   "source": [
    "## To find the critcal value"
   ]
  },
  {
   "cell_type": "code",
   "execution_count": 38,
   "id": "383753af-c137-4565-a02e-30ff013cb264",
   "metadata": {},
   "outputs": [
    {
     "name": "stdout",
     "output_type": "stream",
     "text": [
      "The critical t-value is: 1.98\n"
     ]
    }
   ],
   "source": [
    "alpha = 0.05\n",
    "degrees_of_freedom = sample_size - 1\n",
    "\n",
    "critical_t = t.ppf(1 - alpha / 2, degrees_of_freedom)\n",
    "print(f\"The critical t-value is: {critical_t:.2f}\")"
   ]
  },
  {
   "cell_type": "markdown",
   "id": "8fd02eb9-be78-4191-969e-cb71509c9145",
   "metadata": {},
   "source": [
    "## Compare t-statistic with Critical Value"
   ]
  },
  {
   "cell_type": "code",
   "execution_count": 41,
   "id": "275647b6-1cd8-4b46-964a-27d64901c4a7",
   "metadata": {},
   "outputs": [
    {
     "name": "stdout",
     "output_type": "stream",
     "text": [
      "The p-value is: 0.0000\n"
     ]
    }
   ],
   "source": [
    "p_value = 2 * (1 - t.cdf(abs(t_statistic), degrees_of_freedom))\n",
    "print(f\"The p-value is: {p_value:.4f}\")"
   ]
  },
  {
   "cell_type": "markdown",
   "id": "d3614bb0-ed80-42c3-8782-66242dd220b1",
   "metadata": {},
   "source": [
    "## Conclusion"
   ]
  },
  {
   "cell_type": "code",
   "execution_count": 44,
   "id": "4bb899d8-6289-457c-a9e7-32d0ec3a9876",
   "metadata": {},
   "outputs": [
    {
     "name": "stdout",
     "output_type": "stream",
     "text": [
      "Reject the null hypothesis: The group's mean systolic blood pressure is significantly different from the population mean.\n"
     ]
    }
   ],
   "source": [
    "if p_value <= alpha:\n",
    "    print(\"Reject the null hypothesis: The group's mean systolic blood pressure is significantly different from the population mean.\")\n",
    "else:\n",
    "    print(\"Fail to reject the null hypothesis: No significant difference in systolic blood pressure.\")"
   ]
  },
  {
   "cell_type": "code",
   "execution_count": null,
   "id": "454eb7dd-e9af-4a9e-80f0-5b6616753b6e",
   "metadata": {},
   "outputs": [],
   "source": []
  }
 ],
 "metadata": {
  "kernelspec": {
   "display_name": "Python 3 (ipykernel)",
   "language": "python",
   "name": "python3"
  },
  "language_info": {
   "codemirror_mode": {
    "name": "ipython",
    "version": 3
   },
   "file_extension": ".py",
   "mimetype": "text/x-python",
   "name": "python",
   "nbconvert_exporter": "python",
   "pygments_lexer": "ipython3",
   "version": "3.12.7"
  }
 },
 "nbformat": 4,
 "nbformat_minor": 5
}
